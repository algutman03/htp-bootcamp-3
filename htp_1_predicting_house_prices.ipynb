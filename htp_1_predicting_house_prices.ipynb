{
  "nbformat": 4,
  "nbformat_minor": 0,
  "metadata": {
    "kernelspec": {
      "name": "python3",
      "display_name": "Python 3"
    },
    "language_info": {
      "codemirror_mode": {
        "name": "ipython",
        "version": 3
      },
      "file_extension": ".py",
      "mimetype": "text/x-python",
      "name": "python",
      "nbconvert_exporter": "python",
      "pygments_lexer": "ipython3",
      "version": "3.5.2"
    },
    "colab": {
      "name": "htp-1-predicting-house-prices.ipynb",
      "provenance": [],
      "collapsed_sections": []
    },
    "accelerator": "GPU"
  },
  "cells": [
    {
      "cell_type": "markdown",
      "metadata": {
        "id": "GwUwKvvMKfhm",
        "colab_type": "text"
      },
      "source": [
        "This notebook has been edited from it's orginal form for the *HTP Bootcamp* on Sept. 28, 2019. Please see the original notebook [here.](https://github.com/fchollet/deep-learning-with-python-notebooks)\n",
        "\n",
        "Before we begin, Go to \"Runtime\" > \"Change runtime type\" and select \"GPU\" as your hardware accelerator. "
      ]
    },
    {
      "cell_type": "code",
      "metadata": {
        "id": "6PVk3Z0HI3Cw",
        "colab_type": "code",
        "colab": {}
      },
      "source": [
        "import keras\n",
        "keras.__version__"
      ],
      "execution_count": 0,
      "outputs": []
    },
    {
      "cell_type": "markdown",
      "metadata": {
        "id": "IPS5RBOoI3C0",
        "colab_type": "text"
      },
      "source": [
        "# Predicting house prices: a regression example\n",
        "\n",
        "This notebook contains the code samples found in Chapter 3, Section 6 of [Deep Learning with Python](https://www.manning.com/books/deep-learning-with-python?a_aid=keras&a_bid=76564dff). Note that the original text features far more content, in particular further explanations and figures: in this notebook, you will only find source code and related comments.\n",
        "\n",
        "----"
      ]
    },
    {
      "cell_type": "markdown",
      "metadata": {
        "id": "AqqF4oMTI3C1",
        "colab_type": "text"
      },
      "source": [
        "## The Boston Housing Price dataset\n",
        "\n",
        "\n",
        "We will be attempting to predict the median price of homes in a given Boston suburb in the mid-1970s, given a few data points about the \n",
        "suburb at the time, such as the crime rate, the local property tax rate, etc.\n",
        "\n",
        "This dataset has very few data points, only 506 in \n",
        "total, split between 404 training samples and 102 test samples, and each \"feature\" in the input data (e.g. the crime rate is a feature) has \n",
        "a different scale. For instance some values are proportions, which take a values between 0 and 1, others take values between 1 and 12, \n",
        "others between 0 and 100...\n",
        "\n",
        "Let's start with this data first to help you understand the structure of a neural network model. \n",
        "\n",
        "Let's take a look at the data:"
      ]
    },
    {
      "cell_type": "code",
      "metadata": {
        "id": "YZKgsu2JI3C1",
        "colab_type": "code",
        "colab": {}
      },
      "source": [
        "from keras.datasets import boston_housing\n",
        "\n",
        "(train_data, train_targets), (test_data, test_targets) =  boston_housing.load_data()"
      ],
      "execution_count": 0,
      "outputs": []
    },
    {
      "cell_type": "code",
      "metadata": {
        "id": "gcSX4v1cI3C3",
        "colab_type": "code",
        "colab": {}
      },
      "source": [
        "train_data.shape"
      ],
      "execution_count": 0,
      "outputs": []
    },
    {
      "cell_type": "code",
      "metadata": {
        "id": "jDEnm3vxI3C5",
        "colab_type": "code",
        "colab": {}
      },
      "source": [
        "test_data.shape"
      ],
      "execution_count": 0,
      "outputs": []
    },
    {
      "cell_type": "code",
      "metadata": {
        "id": "V9fj4LqgJI7P",
        "colab_type": "code",
        "colab": {}
      },
      "source": [
        "# View the data\n",
        "import pandas as pd\n",
        "view_train_data = pd.DataFrame(train_data)\n",
        "view_train_data.head(10)"
      ],
      "execution_count": 0,
      "outputs": []
    },
    {
      "cell_type": "markdown",
      "metadata": {
        "id": "KCoXeIdlI3C8",
        "colab_type": "text"
      },
      "source": [
        "\n",
        "As you can see, we have 404 training samples and 102 test samples. The data comprises 13 features. The 13 features in the input data are as \n",
        "follow:\n",
        "\n",
        "1. Per capita crime rate.\n",
        "2. Proportion of residential land zoned for lots over 25,000 square feet.\n",
        "3. Proportion of non-retail business acres per town.\n",
        "4. Charles River dummy variable (= 1 if tract bounds river; 0 otherwise).\n",
        "5. Nitric oxides concentration (parts per 10 million).\n",
        "6. Average number of rooms per dwelling.\n",
        "7. Proportion of owner-occupied units built prior to 1940.\n",
        "8. Weighted distances to five Boston employment centres.\n",
        "9. Index of accessibility to radial highways.\n",
        "10. Full-value property-tax rate per $10,000.\n",
        "11. Pupil-teacher ratio by town.\n",
        "12. 1000 * (Bk - 0.63) ** 2 where Bk is the proportion of Black people by town.\n",
        "13. % lower status of the population.\n",
        "\n",
        "The targets are the median values of owner-occupied homes, in thousands of dollars:"
      ]
    },
    {
      "cell_type": "code",
      "metadata": {
        "id": "c8xiKHaAI3C9",
        "colab_type": "code",
        "colab": {}
      },
      "source": [
        "train_targets"
      ],
      "execution_count": 0,
      "outputs": []
    },
    {
      "cell_type": "markdown",
      "metadata": {
        "id": "DqT4tgDiI3C_",
        "colab_type": "text"
      },
      "source": [
        "\n",
        "The prices are typically between \\$10,000 and \\$50,000. If that sounds cheap, remember this was the mid-1970s, and these prices are not \n",
        "inflation-adjusted."
      ]
    },
    {
      "cell_type": "markdown",
      "metadata": {
        "id": "iuuIiIiHI3DA",
        "colab_type": "text"
      },
      "source": [
        "## Preparing the data\n",
        "\n",
        "\n",
        "It would be problematic to feed into a neural network values that all take wildly different ranges. The network might be able to \n",
        "automatically adapt to such heterogeneous data, but it would definitely make learning more difficult. A widespread best practice to deal \n",
        "with such data is to do feature-wise normalization: for each feature in the input data (a column in the input data matrix), we \n",
        "will subtract the mean of the feature and divide by the standard deviation, so that the feature will be centered around 0 and will have a \n",
        "unit standard deviation. This is easily done in Numpy:\n",
        "\n",
        "We also did this in our first bootcamp with Scikit-Learn also."
      ]
    },
    {
      "cell_type": "code",
      "metadata": {
        "id": "Xn9JAKM4I3DB",
        "colab_type": "code",
        "colab": {}
      },
      "source": [
        "mean = train_data.mean(axis=0)\n",
        "train_data -= mean\n",
        "std = train_data.std(axis=0)\n",
        "train_data /= std\n",
        "\n",
        "test_data -= mean\n",
        "test_data /= std"
      ],
      "execution_count": 0,
      "outputs": []
    },
    {
      "cell_type": "markdown",
      "metadata": {
        "id": "ZJGMtFTWKEaM",
        "colab_type": "text"
      },
      "source": [
        "Let's see how the training data looks now. "
      ]
    },
    {
      "cell_type": "code",
      "metadata": {
        "id": "SsKJibikKHnW",
        "colab_type": "code",
        "colab": {}
      },
      "source": [
        "view_train_data = pd.DataFrame(train_data)\n",
        "view_train_data.head(10)"
      ],
      "execution_count": 0,
      "outputs": []
    },
    {
      "cell_type": "markdown",
      "metadata": {
        "id": "h_hLvuZLI3DC",
        "colab_type": "text"
      },
      "source": [
        "\n",
        "Note that the quantities that we use for normalizing the test data have been computed using the training data. We should never use in our \n",
        "workflow any quantity computed on the test data, even for something as simple as data normalization."
      ]
    },
    {
      "cell_type": "markdown",
      "metadata": {
        "id": "Jamqqrh3ZYHY",
        "colab_type": "text"
      },
      "source": [
        "## Linear Regression Example\n",
        "Linear Regression is usually the first supervised learning method data scientists learn. It will output a model that looks like: \n",
        "\n",
        "*price* = \n",
        "\n",
        "*w1* * crime +\n",
        "\n",
        "*w2* * land_zone +\n",
        "\n",
        "...\n",
        "\n",
        "\n",
        "*w13* * lower_status + \n",
        "\n",
        "*b*\n",
        "\n",
        "In linear regression, the goal is the find the best weights/coefficients (the *w*'s) and best intercept/bias (*b*) that closely maps the inputs to the output, *price*. The \"learning\" part of machine learning referes to finding these values. \n",
        "\n",
        "Using scikit-learn in Bootcamp 1, we saw how quickly and easily we can compute the \"best\" weights and bias value. "
      ]
    },
    {
      "cell_type": "code",
      "metadata": {
        "id": "LLgj06kuRog8",
        "colab_type": "code",
        "colab": {}
      },
      "source": [
        "# Simple Regression Model\n",
        "from sklearn.linear_model import LinearRegression\n",
        "\n",
        "lin_reg = LinearRegression()\n",
        "lin_reg.fit(train_data, train_targets)"
      ],
      "execution_count": 0,
      "outputs": []
    },
    {
      "cell_type": "code",
      "metadata": {
        "id": "glPm_RSrY7Xq",
        "colab_type": "code",
        "colab": {}
      },
      "source": [
        "# Print the coefficients\n",
        "coeff_df = pd.DataFrame(lin_reg.coef_, columns=['Coefficient'])  \n",
        "coeff_df"
      ],
      "execution_count": 0,
      "outputs": []
    },
    {
      "cell_type": "markdown",
      "metadata": {
        "id": "KssK6gcMftTp",
        "colab_type": "text"
      },
      "source": [
        "These values represent the best weights for a linear model. We could use them to predict the prices of houses we have not seen. "
      ]
    },
    {
      "cell_type": "code",
      "metadata": {
        "id": "0ASa-mnIU8D8",
        "colab_type": "code",
        "colab": {}
      },
      "source": [
        "from sklearn.metrics import mean_squared_error, mean_absolute_error\n",
        "\n",
        "test_predictions = lin_reg.predict(test_data)\n",
        "lin_mse = mean_squared_error(test_targets, test_predictions)\n",
        "lin_mae = mean_absolute_error(test_targets, test_predictions)\n",
        "\n",
        "print(lin_mse, lin_mae)"
      ],
      "execution_count": 0,
      "outputs": []
    },
    {
      "cell_type": "markdown",
      "metadata": {
        "id": "6rc8sPt1fCFa",
        "colab_type": "text"
      },
      "source": [
        "The number on the right, 3.4, is the mean abolute error. It means that the predictions are off, on average, by $3,464. \n",
        "\n",
        "### Linear Regression as a Neural Network\n",
        "\n",
        "Now, let's connect the idea of linear regression to a neural network. We will build a simple neural network, and you'll see that it is essentially the same as a linear regression model!\n",
        "\n",
        "VIEW SLIDES"
      ]
    },
    {
      "cell_type": "markdown",
      "metadata": {
        "id": "AjrbZsaNI3DD",
        "colab_type": "text"
      },
      "source": [
        "## Building our first network\n",
        "\n",
        "Our workflow will be as follow: first we will present our neural network with the training data, `train_data` and `train_labels`. The \n",
        "network will then learn to associate images and labels. Finally, we will ask the network to produce predictions for `test_targets`, and we \n",
        "will verify if these predictions match the labels from `test_targets`.\n",
        "\n",
        "Let's build our network -- again, remember that you aren't supposed to understand everything about this example just yet.\n",
        "\n",
        "The core building block of neural networks is the \"layer\", a data-processing module which you can conceive as a \"filter\" for data. Some data comes in, and comes out in a more useful form. \n",
        "\n",
        "Let's begin by importing modules from Keras. "
      ]
    },
    {
      "cell_type": "code",
      "metadata": {
        "id": "8VuSolB2I3DD",
        "colab_type": "code",
        "colab": {}
      },
      "source": [
        "from keras import models\n",
        "from keras import layers"
      ],
      "execution_count": 0,
      "outputs": []
    },
    {
      "cell_type": "markdown",
      "metadata": {
        "id": "a8eWgl7VibPx",
        "colab_type": "text"
      },
      "source": [
        "A neural network consists of layers than can be added sequential. To start, we will use just one layer. The visual in the PowerPoint will help clarify what is happening. "
      ]
    },
    {
      "cell_type": "code",
      "metadata": {
        "id": "zcq537ezQ7eE",
        "colab_type": "code",
        "colab": {}
      },
      "source": [
        "# Building blocks of a model\n",
        "reg_model = models.Sequential()\n",
        "reg_model.add(layers.Dense(1, input_shape=(train_data.shape[1],)))"
      ],
      "execution_count": 0,
      "outputs": []
    },
    {
      "cell_type": "markdown",
      "metadata": {
        "id": "ey5APjRojAWQ",
        "colab_type": "text"
      },
      "source": [
        "The model has one layer. It takes as an input data with 13 numbers, and connects those thirteen numbers to a layer with 1 \"node\" (e.g. `Dense(1)`).\n",
        "\n",
        "The goal is to find the best thirteen numbers (*weights*) and one constant term (*bias*) to map the input data to the output data. This is exactly what happened in regression!"
      ]
    },
    {
      "cell_type": "markdown",
      "metadata": {
        "id": "2AKi3EcDjkDx",
        "colab_type": "text"
      },
      "source": [
        "To make our network ready for training, we need to pick three more things, as part of \"compilation\" step:\n",
        "\n",
        "- A loss function: the is how the network will be able to measure how good a job it is doing on its training data, and thus how it will be able to steer itself in the right direction.\n",
        "- An optimizer: this is the mechanism through which the network will update itself based on the data it sees and its loss function.\n",
        "- Metrics to monitor during training and testing. Here we will only care about accuracy (the fraction of the images that were correctly classified).\n",
        "The exact purpose of the loss function and the optimizer will be made clear throughout the next two chapters.\n",
        "\n",
        "We will discuss these ideas more in later notebooks. "
      ]
    },
    {
      "cell_type": "code",
      "metadata": {
        "id": "stii84Coi1B-",
        "colab_type": "code",
        "colab": {}
      },
      "source": [
        "reg_model.compile(optimizer = 'sgd',\n",
        "              loss='mse', \n",
        "              metrics=['mae'])"
      ],
      "execution_count": 0,
      "outputs": []
    },
    {
      "cell_type": "markdown",
      "metadata": {
        "id": "eKjKeGpSj1nk",
        "colab_type": "text"
      },
      "source": [
        "Similar to a scikit-learn model, we use `fit` to begin the learning process. The model will fit the training data to the training targets by iterating over the weights and bias 100 times. "
      ]
    },
    {
      "cell_type": "code",
      "metadata": {
        "id": "aR5wCMXXi3HK",
        "colab_type": "code",
        "colab": {}
      },
      "source": [
        "reg_model.fit(train_data, \n",
        "          train_targets,\n",
        "          epochs=100)"
      ],
      "execution_count": 0,
      "outputs": []
    },
    {
      "cell_type": "markdown",
      "metadata": {
        "id": "pusYOa3ekQ7D",
        "colab_type": "text"
      },
      "source": [
        "Let's see the weights learned from this process and compare them to the weights learned in linear regression. "
      ]
    },
    {
      "cell_type": "code",
      "metadata": {
        "id": "VJJtH3peYRlq",
        "colab_type": "code",
        "colab": {}
      },
      "source": [
        "import numpy as np\n",
        "weights, biases = reg_model.layers[0].get_weights()\n",
        "coeff_df = pd.DataFrame({'LR Coefficients': lin_reg.coef_, 'NN Weights': weights[:,0]})  \n",
        "coeff_df"
      ],
      "execution_count": 0,
      "outputs": []
    },
    {
      "cell_type": "markdown",
      "metadata": {
        "id": "BLs2mRCkmd2z",
        "colab_type": "text"
      },
      "source": [
        "They are close, just as expected. And because the weights are close, we expect the neural network to give similar predictions on the test set. "
      ]
    },
    {
      "cell_type": "code",
      "metadata": {
        "id": "f5TCez58Rh3k",
        "colab_type": "code",
        "colab": {}
      },
      "source": [
        "reg_model.evaluate(test_data, test_targets)"
      ],
      "execution_count": 0,
      "outputs": []
    },
    {
      "cell_type": "markdown",
      "metadata": {
        "id": "Dbi6-SursYfT",
        "colab_type": "text"
      },
      "source": [
        "To recap, the model had to learn 14 numbers: 13 weights and 1 bias. View this with the code below. "
      ]
    },
    {
      "cell_type": "code",
      "metadata": {
        "id": "c5GPOY3gsL_T",
        "colab_type": "code",
        "colab": {}
      },
      "source": [
        "reg_model.summary()"
      ],
      "execution_count": 0,
      "outputs": []
    },
    {
      "cell_type": "markdown",
      "metadata": {
        "id": "JkhSPR_BnNmI",
        "colab_type": "text"
      },
      "source": [
        "## Building a Better Neural Network\n",
        "\n",
        "In that example, we made the most simple neural network possible. It had one layer and one node. Let's add another layer (a *hidden* layer) with 64 nodes! We hope this 64 nodes represent the input data in different ways. "
      ]
    },
    {
      "cell_type": "code",
      "metadata": {
        "id": "9Tu280qSNfrI",
        "colab_type": "code",
        "colab": {}
      },
      "source": [
        "model = models.Sequential()\n",
        "model.add(layers.Dense(64, activation='relu', input_shape=(train_data.shape[1],)))\n",
        "model.add(layers.Dense(1))"
      ],
      "execution_count": 0,
      "outputs": []
    },
    {
      "cell_type": "markdown",
      "metadata": {
        "id": "sdt2xdwmo6RH",
        "colab_type": "text"
      },
      "source": [
        "Notice the `Dense(64)` in the middle layer. This means the hidden layer with have 64 nodes that are fully connected to the input data. Thus, the input data's 13 features will transform into 64, hopefully identifying complex relationships in the housing data missed in the simple learning model. \n",
        "\n",
        "You also see a new function called an `activation` function. This converts the value of the node into a new value. In some cases, the new value will become zero, meaning the node will not \"fire\" and will not send information further into the network. Let's not worry to much about this now. We will be using the `relu` activation function from here on out. \n",
        "\n",
        "In the last layer, you see one node again, `Dense(1)`. The 64 hidden nodes connect to this node with weights and a bias to predict the final output, price. \n",
        "\n",
        "Our network ends with a single unit, and no activation (i.e. it will be linear layer). \n",
        "This is a typical setup for scalar regression (i.e. regression where we are trying to predict a single continuous value). \n",
        "Applying an activation function would constrain the range that the output can take; for instance if \n",
        "we applied a `sigmoid` activation function to our last layer, the network could only learn to predict values between 0 and 1. Here, because \n",
        "the last layer is purely linear, the network is free to learn to predict values in any range.\n",
        "\n",
        "Next, let's compile the network with an optimizer and a loss. "
      ]
    },
    {
      "cell_type": "code",
      "metadata": {
        "id": "DfVBoQSrN29n",
        "colab_type": "code",
        "colab": {}
      },
      "source": [
        "model.compile(optimizer='sgd', \n",
        "              loss='mse', \n",
        "              metrics=['mae'])"
      ],
      "execution_count": 0,
      "outputs": []
    },
    {
      "cell_type": "markdown",
      "metadata": {
        "id": "TXYzdmTQsdAZ",
        "colab_type": "text"
      },
      "source": [
        "Before we fit the model, let's see how many more parameters the network needs to learn:"
      ]
    },
    {
      "cell_type": "code",
      "metadata": {
        "id": "bPM2nBBGsBlr",
        "colab_type": "code",
        "colab": {}
      },
      "source": [
        "model.summary()"
      ],
      "execution_count": 0,
      "outputs": []
    },
    {
      "cell_type": "markdown",
      "metadata": {
        "id": "gqvhZwQUr2N6",
        "colab_type": "text"
      },
      "source": [
        "Finally, let's build the model, this time using 500 iterations of finding the weights and biases.  "
      ]
    },
    {
      "cell_type": "code",
      "metadata": {
        "id": "PDa3GUsjOEht",
        "colab_type": "code",
        "colab": {}
      },
      "source": [
        "# Train the model\n",
        "model.fit(train_data, \n",
        "          train_targets,\n",
        "          epochs=100)"
      ],
      "execution_count": 0,
      "outputs": []
    },
    {
      "cell_type": "markdown",
      "metadata": {
        "id": "9Waq2GXOI3DF",
        "colab_type": "text"
      },
      "source": [
        "\n",
        "\n",
        "\n",
        "Note that we are compiling the network with the `mse` loss function -- Mean Squared Error, the square of the difference between the \n",
        "predictions and the targets, a widely used loss function for regression problems.\n",
        "\n",
        "We are also monitoring a new metric during training: `mae`. This stands for Mean Absolute Error. It is simply the absolute value of the \n",
        "difference between the predictions and the targets. For instance, a MAE of 0.5 on this problem would mean that our predictions are off by \n",
        "\\$500 on average."
      ]
    },
    {
      "cell_type": "code",
      "metadata": {
        "id": "J1EFfpH8QOXb",
        "colab_type": "code",
        "colab": {}
      },
      "source": [
        "model.evaluate(test_data, test_targets)"
      ],
      "execution_count": 0,
      "outputs": []
    },
    {
      "cell_type": "markdown",
      "metadata": {
        "id": "vPAdxsKrQhCK",
        "colab_type": "text"
      },
      "source": [
        "In this case, we are off by \\$2,500 on \n",
        "average, which is still significant considering that the prices range from \\$10,000 to \\$50,000. But this is a big improvement over the simple network which had an error of \\$3,464.  \n"
      ]
    },
    {
      "cell_type": "markdown",
      "metadata": {
        "id": "8bftdn-WI3Dj",
        "colab_type": "text"
      },
      "source": [
        "## Wrapping up\n",
        "\n",
        "\n",
        "Here's what you should take away from this example:\n",
        "\n",
        "* The most basic Neural Network is similar to Linear Regression.\n",
        "* Neural Networks can find complex relationships using hidden layers and nodes. \n",
        "* Regression is done using different loss functions from classification; Mean Squared Error (MSE) is a commonly used loss function for \n",
        "regression.\n",
        "* Similarly, evaluation metrics to be used for regression differ from those used for classification; naturally the concept of \"accuracy\" \n",
        "does not apply for regression. A common regression metric is Mean Absolute Error (MAE).\n",
        "* When features in the input data have values in different ranges, each feature should be scaled independently as a preprocessing step."
      ]
    }
  ]
}